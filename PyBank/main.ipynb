{
 "cells": [
  {
   "cell_type": "code",
   "execution_count": null,
   "id": "aabc3d2b-e363-47ea-b113-69ee266de06a",
   "metadata": {},
   "outputs": [],
   "source": [
    "#PyBank\n",
    "\"\"\"\n",
    "On the bases of the csv file we need to determine the following \n",
    "\n",
    "The total number of months included in the dataset.\n",
    "\n",
    "\n",
    "The net total amount of Profit/Losses over the entire period.\n",
    "\n",
    "\n",
    "The average of the changes in Profit/Losses over the entire period.\n",
    "\n",
    "\n",
    "The greatest increase in profits (date and amount) over the entire period.\n",
    "\n",
    "\n",
    "The greatest decrease in losses (date and amount) over the entire period.\n",
    "\n",
    "\n",
    "\"\"\""
   ]
  },
  {
   "cell_type": "code",
   "execution_count": 14,
   "id": "1955faa8-64fd-4a77-a607-077667f5e84b",
   "metadata": {},
   "outputs": [],
   "source": [
    "#Import necessary libraries and path\n",
    "import csv as tempCsv\n",
    "from pathlib import Path "
   ]
  },
  {
   "cell_type": "code",
   "execution_count": 15,
   "id": "da872e7c-fc7c-4ab5-90fd-0b94ed48bd31",
   "metadata": {},
   "outputs": [],
   "source": [
    "#Initialize variables\n",
    "total_months = []\n",
    "net_total_profit_loss = []\n",
    "profit_loss_over_time = []\n",
    "total_months_number = 0        "
   ]
  },
  {
   "cell_type": "code",
   "execution_count": 16,
   "id": "c0edcb09-c806-4bb6-b4fc-e1605de5b4cf",
   "metadata": {},
   "outputs": [],
   "source": [
    "#Open the path as a file object\n",
    "with open('budget_data.csv', 'r') as myFile: \n",
    "    reader = tempCsv.reader(myFile)\n",
    "    \n",
    "#Iterate through the data skipping the header   \n",
    "    csv_header = next(reader)\n",
    "    \n",
    "    for row in reader:\n",
    "        total_months.append(row[0]) #Appending total number of months\n",
    "        net_total_profit_loss.append(float(row[1]))#appending total progit/losses\n",
    "        "
   ]
  },
  {
   "cell_type": "code",
   "execution_count": 17,
   "id": "6c675edb-668e-4d6e-93bf-0f06e23e5ee5",
   "metadata": {},
   "outputs": [],
   "source": [
    "#Find the change of profit/loss over time\n",
    "\n",
    "for i in range(len(net_total_profit_loss)-1):\n",
    "        profit_loss_over_time.append(net_total_profit_loss[i+1]-net_total_profit_loss[i])"
   ]
  },
  {
   "cell_type": "code",
   "execution_count": 18,
   "id": "51e9ffde-724b-45d8-b345-624638d0b162",
   "metadata": {},
   "outputs": [],
   "source": [
    "#Derive the highest and lowest of the change of profit/loss over time\n",
    "high_value = max(profit_loss_over_time)\n",
    "low_value  = min(profit_loss_over_time)\n",
    "\n",
    "#Obtain the month of highest and lowest value using index\n",
    "\n",
    "high_value_month = profit_loss_over_time.index(max(profit_loss_over_time)) + 1 #Using +1 as the value calculated with the next month\n",
    "low_value_month = profit_loss_over_time.index(min(profit_loss_over_time)) + 1 "
   ]
  },
  {
   "cell_type": "code",
   "execution_count": 19,
   "id": "4aeedf3d-decc-4ec8-bb3f-9fc74e37e381",
   "metadata": {},
   "outputs": [
    {
     "name": "stdout",
     "output_type": "stream",
     "text": [
      "Total Months : 86\n",
      "Total : 38382578.0\n",
      "Average Change: -2315.12\n",
      "Greatest Increase in Profits: Feb-2012 ($1926159.0)\n",
      "Greatest Decrease in Profits: Sep-2013 ($-2196167.0)\n"
     ]
    }
   ],
   "source": [
    "#Printing the information obtain so far\n",
    "\n",
    "print(f\"Total Months : {len(total_months)}\")\n",
    "print(f\"Total : {sum(net_total_profit_loss)}\")\n",
    "print(f\"Average Change: {round(sum(profit_loss_over_time)/len(profit_loss_over_time),2)}\")\n",
    "print(f\"Greatest Increase in Profits: {total_months[high_value_month]} (${(str(high_value))})\")\n",
    "print(f\"Greatest Decrease in Profits: {total_months[low_value_month]} (${(str(low_value))})\")"
   ]
  },
  {
   "cell_type": "code",
   "execution_count": 20,
   "id": "fb0564b8-18d8-4df2-b7b7-2b18eb70a687",
   "metadata": {},
   "outputs": [
    {
     "name": "stdout",
     "output_type": "stream",
     "text": [
      "Financial Analysis\n",
      "----------------------------\n",
      "Total Months : 86\n",
      "Total : 38382578.0\n",
      "Average Change: -2315.12\n",
      "Greatest Increase in Profits: Feb-2012 ($1926159.0)\n",
      "Greatest Decrease in Profits: Sep-2013 ($-2196167.0)\n"
     ]
    }
   ],
   "source": [
    "#Fianl Result \n",
    "\n",
    "print(\"Financial Analysis\")\n",
    "print(\"----------------------------\")\n",
    "print(f\"Total Months : {len(total_months)}\")\n",
    "print(f\"Total : {sum(net_total_profit_loss)}\")\n",
    "print(f\"Average Change: {round(sum(profit_loss_over_time)/len(profit_loss_over_time),2)}\")\n",
    "print(f\"Greatest Increase in Profits: {total_months[high_value_month]} (${(str(high_value))})\")\n",
    "print(f\"Greatest Decrease in Profits: {total_months[low_value_month]} (${(str(low_value))})\")"
   ]
  },
  {
   "cell_type": "code",
   "execution_count": 28,
   "id": "9ccef51a-4b00-4a7b-b189-4b3baf879379",
   "metadata": {},
   "outputs": [],
   "source": [
    "#Creating a .txt output file\n",
    "\n",
    "output_path = 'PyBank.txt'\n",
    "\n",
    "#opening the Path as object\n",
    "\n",
    "with open(output_path,\"w\") as file:\n",
    "    \n",
    "#Write Financial Analysis to outputfile PyBank.txt\n",
    "    file.write(\"Financial Analysis\\n\")\n",
    "    file.write(\"----------------------------\\n\")\n",
    "    file.write(f\"Total Months : {len(total_months)}\\n\")\n",
    "    file.write(f\"Total : {sum(net_total_profit_loss)}\\n\")\n",
    "    file.write(f\"Average Change: {round(sum(profit_loss_over_time)/len(profit_loss_over_time),2)}\\n\")\n",
    "    file.write(f\"Greatest Increase in Profits: {total_months[high_value_month]} (${(str(high_value))})\\n\")\n",
    "    file.write(f\"Greatest Decrease in Profits: {total_months[low_value_month]} (${(str(low_value))})\\n\")\n",
    "\n"
   ]
  },
  {
   "cell_type": "code",
   "execution_count": null,
   "id": "b911a489-20bf-474b-b1b9-1c8b4b55aa40",
   "metadata": {},
   "outputs": [],
   "source": []
  }
 ],
 "metadata": {
  "kernelspec": {
   "display_name": "Python 3",
   "language": "python",
   "name": "python3"
  },
  "language_info": {
   "codemirror_mode": {
    "name": "ipython",
    "version": 3
   },
   "file_extension": ".py",
   "mimetype": "text/x-python",
   "name": "python",
   "nbconvert_exporter": "python",
   "pygments_lexer": "ipython3",
   "version": "3.8.8"
  }
 },
 "nbformat": 4,
 "nbformat_minor": 5
}
